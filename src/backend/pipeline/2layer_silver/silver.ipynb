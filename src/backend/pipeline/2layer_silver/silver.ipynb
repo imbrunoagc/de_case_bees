{
 "cells": [
  {
   "cell_type": "code",
   "execution_count": 35,
   "id": "62f9eea8",
   "metadata": {},
   "outputs": [],
   "source": [
    "import os\n",
    "import sys\n",
    "\n",
    "import pandas as pd\n",
    "from pydantic import BaseModel\n",
    "from enum import Enum\n",
    "from datetime import datetime\n",
    "\n",
    "from tdd import validate_and_convert_to_df # import do tdd (contrato de dados)\n",
    "\n",
    "current_dir = os.getcwd()\n",
    "parent_dir = os.path.abspath(os.path.join(current_dir, \"..\", \"..\", \"..\"))\n",
    "data_dir = os.path.abspath(os.path.join(current_dir, \"..\", \"..\", \"..\", \"..\", \"data\"))\n",
    "sys.path.append(parent_dir)\n",
    "\n",
    "from backend.utils.functions import read_json"
   ]
  },
  {
   "cell_type": "code",
   "execution_count": null,
   "id": "40532a63",
   "metadata": {},
   "outputs": [],
   "source": [
    "def metadata(df: pd.DataFrame) -> pd.DataFrame:\n",
    "    \"\"\"Info de processamento\"\"\"\n",
    "    df['date'] = datetime.now().strftime('%Y-%m-%d')\n",
    "    df['hour'] = datetime.now().strftime('%H:%M:%S')\n",
    "    df['source'] = 'openbrewerydb'\n",
    "    return df"
   ]
  },
  {
   "cell_type": "code",
   "execution_count": null,
   "id": "26eab172",
   "metadata": {},
   "outputs": [],
   "source": [
    "class BreweryType(str, Enum): # Categorizando a coluna 'brewery_type'\n",
    "    micro = \"micro\"\n",
    "    large = \"large\"\n",
    "    closed = \"closed\"\n",
    "    brewpub = \"brewpub\"\n",
    "    proprietor = \"proprietor\"\n",
    "    contract = \"contract\"\n",
    "    regional = \"regional\"\n",
    "    planning = \"planning\"\n",
    "    taproom = \"taproom\"\n",
    "    bar = \"bar\"\n",
    "    nano = \"nano\"\n",
    "    beergarden = \"beergarden\"\n",
    "    location = \"location\"\n",
    "\n",
    "\n",
    "class Brewery(BaseModel):\n",
    "    \"\"\"\n",
    "    Definição do esquema retornado da API\n",
    "    \"\"\"\n",
    "\n",
    "    id: str\n",
    "    name: str\n",
    "    brewery_type: str | BreweryType\n",
    "    address_1: str | None\n",
    "    address_2: str | None\n",
    "    address_3: str | None\n",
    "    city: str\n",
    "    state: str\n",
    "    postal_code: str | None\n",
    "    country: str\n",
    "    longitude: float | None\n",
    "    latitude: float | None\n",
    "    phone: str | None\n",
    "    website_url: str | None\n",
    "    state: str\n",
    "    street: str | None"
   ]
  },
  {
   "cell_type": "code",
   "execution_count": null,
   "id": "483e86ca",
   "metadata": {},
   "outputs": [],
   "source": [
    "# leitura do conteudo json baixado\n",
    "data = read_json(\n",
    "    file_path=os.path.join(data_dir, \"bronze\"),\n",
    "    name_file=\"breweries_all\"\n",
    ")"
   ]
  },
  {
   "cell_type": "code",
   "execution_count": null,
   "id": "c1c1b292",
   "metadata": {},
   "outputs": [],
   "source": [
    "# Chamada da função de vdt\n",
    "df = validate_and_convert_to_df(\n",
    "    data=data,\n",
    "    model=Brewery\n",
    ")"
   ]
  },
  {
   "cell_type": "code",
   "execution_count": null,
   "id": "a55c53dc",
   "metadata": {},
   "outputs": [],
   "source": [
    "# remoção de duplicados\n",
    "df = df.drop_duplicates(subset=['id'])"
   ]
  },
  {
   "cell_type": "code",
   "execution_count": null,
   "id": "b889c14c",
   "metadata": {},
   "outputs": [],
   "source": [
    "# construcao de metadados\n",
    "df = metadata(df=df)"
   ]
  },
  {
   "cell_type": "code",
   "execution_count": null,
   "id": "e3222c1e",
   "metadata": {},
   "outputs": [],
   "source": [
    "# add try-except\n",
    "df.to_parquet(\n",
    "    path=os.path.join(data_dir, \"silver\", \"breweries.parquet\"),\n",
    "    engine='pyarrow',\n",
    "    partition_cols=['country', 'state'],\n",
    "    index=False\n",
    ")"
   ]
  }
 ],
 "metadata": {
  "kernelspec": {
   "display_name": "de-case-bees-XCnE9Nhq-py3.10",
   "language": "python",
   "name": "python3"
  },
  "language_info": {
   "codemirror_mode": {
    "name": "ipython",
    "version": 3
   },
   "file_extension": ".py",
   "mimetype": "text/x-python",
   "name": "python",
   "nbconvert_exporter": "python",
   "pygments_lexer": "ipython3",
   "version": "3.10.8"
  }
 },
 "nbformat": 4,
 "nbformat_minor": 5
}
